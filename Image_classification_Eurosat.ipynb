{
  "nbformat": 4,
  "nbformat_minor": 0,
  "metadata": {
    "colab": {
      "provenance": [],
      "collapsed_sections": [],
      "authorship_tag": "ABX9TyMk1Yle0l81UtuFEGc7KfRy",
      "include_colab_link": true
    },
    "kernelspec": {
      "name": "python3",
      "display_name": "Python 3"
    },
    "language_info": {
      "name": "python"
    },
    "accelerator": "GPU",
    "gpuClass": "standard"
  },
  "cells": [
    {
      "cell_type": "markdown",
      "metadata": {
        "id": "view-in-github",
        "colab_type": "text"
      },
      "source": [
        "<a href=\"https://colab.research.google.com/github/AlexandreLarget/tensorflow_projects/blob/main/Image_classification_Eurosat.ipynb\" target=\"_parent\"><img src=\"https://colab.research.google.com/assets/colab-badge.svg\" alt=\"Open In Colab\"/></a>"
      ]
    },
    {
      "cell_type": "markdown",
      "source": [
        "# Eurosat avec transfer learning"
      ],
      "metadata": {
        "id": "g5rGImrfZydU"
      }
    },
    {
      "cell_type": "code",
      "source": [
        "!nvidia-smi -L"
      ],
      "metadata": {
        "id": "Sp8RUDqH5OOQ"
      },
      "execution_count": null,
      "outputs": []
    },
    {
      "cell_type": "markdown",
      "source": [
        "## Get and visualize the data"
      ],
      "metadata": {
        "id": "JtZSdjYZavlQ"
      }
    },
    {
      "cell_type": "code",
      "source": [
        "import tensorflow as tf\n",
        "import tensorflow_datasets as tfds\n",
        "import matplotlib.pyplot as plt\n",
        "from tensorflow import keras"
      ],
      "metadata": {
        "id": "MBssBnJhazNK"
      },
      "execution_count": 79,
      "outputs": []
    },
    {
      "cell_type": "code",
      "source": [
        "data, info = tfds.load(\"Eurosat\", split=\"train\", shuffle_files=True, as_supervised=True, with_info=True)"
      ],
      "metadata": {
        "id": "2hb_lU2-bjzZ"
      },
      "execution_count": 80,
      "outputs": []
    },
    {
      "cell_type": "code",
      "source": [
        "class_names = info.features['label'].names\n",
        "class_names"
      ],
      "metadata": {
        "colab": {
          "base_uri": "https://localhost:8080/"
        },
        "id": "7SHlg1zecCz0",
        "outputId": "4055e114-6909-4c12-ed88-9ad45fb9a641"
      },
      "execution_count": 81,
      "outputs": [
        {
          "output_type": "execute_result",
          "data": {
            "text/plain": [
              "['AnnualCrop',\n",
              " 'Forest',\n",
              " 'HerbaceousVegetation',\n",
              " 'Highway',\n",
              " 'Industrial',\n",
              " 'Pasture',\n",
              " 'PermanentCrop',\n",
              " 'Residential',\n",
              " 'River',\n",
              " 'SeaLake']"
            ]
          },
          "metadata": {},
          "execution_count": 81
        }
      ]
    },
    {
      "cell_type": "code",
      "source": [
        "def show_image(data):\n",
        "  random_data = data.shuffle(buffer_size=int(len(data)/1000))\n",
        "  sample = random_data.take(1)\n",
        "\n",
        "  for image, label in sample:\n",
        "    print(f\"Image shape: {image.shape}\")\n",
        "    print(f\"Image type: {image.dtype}\")\n",
        "    print(f\"Label num: {label}\")\n",
        "    print(f\"Label classe: {class_names[label]}\")\n",
        "    print(f\"Minimum value: {tf.reduce_min(image).numpy()}\")\n",
        "    print(f\"Maximum value: {tf.reduce_max(image).numpy()}\")\n",
        "    plt.imshow(image)\n",
        "    plt.axis(False)"
      ],
      "metadata": {
        "id": "r7xXTVaYeYXT"
      },
      "execution_count": 82,
      "outputs": []
    },
    {
      "cell_type": "code",
      "source": [
        "show_image(data)"
      ],
      "metadata": {
        "colab": {
          "base_uri": "https://localhost:8080/",
          "height": 355
        },
        "id": "L1Sp_GfvdsYX",
        "outputId": "35db66fc-ce71-4cbc-f907-9f8c189eb2db"
      },
      "execution_count": 83,
      "outputs": [
        {
          "output_type": "stream",
          "name": "stdout",
          "text": [
            "Image shape: (64, 64, 3)\n",
            "Image type: <dtype: 'uint8'>\n",
            "Label num: 7\n",
            "Label classe: Residential\n",
            "Minimum value: 67\n",
            "Maximum value: 255\n"
          ]
        },
        {
          "output_type": "display_data",
          "data": {
            "text/plain": [
              "<Figure size 432x288 with 1 Axes>"
            ],
            "image/png": "[encoded data removed]"
          },
          "metadata": {
            "needs_background": "light"
          }
        }
      ]
    },
    {
      "cell_type": "code",
      "source": [
        "len(data)"
      ],
      "metadata": {
        "colab": {
          "base_uri": "https://localhost:8080/"
        },
        "id": "tKQGbdHme2L6",
        "outputId": "14578848-a63a-4727-8618-25e0dae7f9a0"
      },
      "execution_count": 84,
      "outputs": [
        {
          "output_type": "execute_result",
          "data": {
            "text/plain": [
              "27000"
            ]
          },
          "metadata": {},
          "execution_count": 84
        }
      ]
    },
    {
      "cell_type": "code",
      "source": [
        "split = int(len(data) * 0.8)\n",
        "train_data = data.take(split)\n",
        "test_data = data.skip(split)"
      ],
      "metadata": {
        "id": "6FjzHRMVfKYe"
      },
      "execution_count": 85,
      "outputs": []
    },
    {
      "cell_type": "code",
      "source": [
        "len(train_data), len(test_data)"
      ],
      "metadata": {
        "colab": {
          "base_uri": "https://localhost:8080/"
        },
        "id": "7J2gmYZFfmJc",
        "outputId": "37f1cad5-d64c-4cc8-9a11-2d37f4c28fbf"
      },
      "execution_count": 86,
      "outputs": [
        {
          "output_type": "execute_result",
          "data": {
            "text/plain": [
              "(21600, 5400)"
            ]
          },
          "metadata": {},
          "execution_count": 86
        }
      ]
    },
    {
      "cell_type": "code",
      "source": [
        "train_data"
      ],
      "metadata": {
        "colab": {
          "base_uri": "https://localhost:8080/"
        },
        "id": "Il1Kdzi1fpJi",
        "outputId": "513f67d7-b7ef-4e59-ae48-8b99d38558ce"
      },
      "execution_count": 87,
      "outputs": [
        {
          "output_type": "execute_result",
          "data": {
            "text/plain": [
              "<TakeDataset element_spec=(TensorSpec(shape=(64, 64, 3), dtype=tf.uint8, name=None), TensorSpec(shape=(), dtype=tf.int64, name=None))>"
            ]
          },
          "metadata": {},
          "execution_count": 87
        }
      ]
    },
    {
      "cell_type": "markdown",
      "source": [
        "## Data preprocessing"
      ],
      "metadata": {
        "id": "YnHDaqFAuPEK"
      }
    },
    {
      "cell_type": "code",
      "source": [
        "def preprocessing_image(image, label, img_size=224):\n",
        "  image = tf.image.resize(image, [img_size, img_size])\n",
        "  image = 2 * (image / 255) - 1 # Normalize between [-1 ; 1]\n",
        "  return tf.cast(image, tf.float32), label"
      ],
      "metadata": {
        "id": "DnJnFDFXfv7P"
      },
      "execution_count": 88,
      "outputs": []
    },
    {
      "cell_type": "code",
      "source": [
        "train_data = train_data.map(preprocessing_image, num_parallel_calls=tf.data.AUTOTUNE)\n",
        "test_data = test_data.map(preprocessing_image, num_parallel_calls=tf.data.AUTOTUNE)"
      ],
      "metadata": {
        "id": "31ZRNWIEhZ1W"
      },
      "execution_count": 89,
      "outputs": []
    },
    {
      "cell_type": "code",
      "source": [
        "train_data = train_data.batch(32).prefetch(tf.data.AUTOTUNE)\n",
        "test_data = test_data.batch(32).prefetch(tf.data.AUTOTUNE)"
      ],
      "metadata": {
        "id": "TwHd7-EwhuI8"
      },
      "execution_count": 90,
      "outputs": []
    },
    {
      "cell_type": "code",
      "source": [
        "len(train_data), 32*len(train_data)"
      ],
      "metadata": {
        "colab": {
          "base_uri": "https://localhost:8080/"
        },
        "id": "SJrI_amgiFvF",
        "outputId": "3f1ee90d-51ca-43ee-acb9-cec55ff2437c"
      },
      "execution_count": 91,
      "outputs": [
        {
          "output_type": "execute_result",
          "data": {
            "text/plain": [
              "(675, 21600)"
            ]
          },
          "metadata": {},
          "execution_count": 91
        }
      ]
    },
    {
      "cell_type": "markdown",
      "source": [
        "## Transfer learning"
      ],
      "metadata": {
        "id": "o_EBJSqAuT9F"
      }
    },
    {
      "cell_type": "code",
      "source": [
        "vit_16_transf = \"https://tfhub.dev/sayakpaul/vit_s16_classification/1\""
      ],
      "metadata": {
        "id": "5VinZMVliWaP"
      },
      "execution_count": 92,
      "outputs": []
    },
    {
      "cell_type": "code",
      "source": [
        "import tensorflow_hub as hub\n",
        "from tensorflow.keras import layers"
      ],
      "metadata": {
        "id": "KqGBgP4VidU0"
      },
      "execution_count": 93,
      "outputs": []
    },
    {
      "cell_type": "code",
      "source": [
        "transf_layer = hub.KerasLayer(vit_16_transf,\n",
        "                              trainable=False,\n",
        "                              input_shape=(224, 224, 3), \n",
        "                              name=\"transfer_layer\")"
      ],
      "metadata": {
        "id": "Nt-LmtDKlPF_"
      },
      "execution_count": 94,
      "outputs": []
    },
    {
      "cell_type": "markdown",
      "source": [
        "## Model: transformer vit 16"
      ],
      "metadata": {
        "id": "KzcK06w_uZwk"
      }
    },
    {
      "cell_type": "code",
      "source": [
        "model_euro = tf.keras.Sequential([\n",
        "    transf_layer,\n",
        "    layers.Dense(128, activation=\"relu\", name=\"dense\"),\n",
        "    layers.Dense(len(class_names), activation=\"softmax\", name=\"output\")\n",
        "], name=\"model_euro\")"
      ],
      "metadata": {
        "id": "AgE22pEiJTqA"
      },
      "execution_count": 95,
      "outputs": []
    },
    {
      "cell_type": "code",
      "source": [
        "model_euro.compile(loss=\"sparse_categorical_crossentropy\",\n",
        "              optimizer=\"Adam\",\n",
        "              metrics=[\"accuracy\"])"
      ],
      "metadata": {
        "id": "tOzf2tWtlvZz"
      },
      "execution_count": 96,
      "outputs": []
    },
    {
      "cell_type": "code",
      "source": [
        "model_euro.summary()"
      ],
      "metadata": {
        "colab": {
          "base_uri": "https://localhost:8080/"
        },
        "id": "YejEFsW4sWWV",
        "outputId": "20c133c9-36a2-4a88-e276-e11aac30247a"
      },
      "execution_count": 97,
      "outputs": [
        {
          "output_type": "stream",
          "name": "stdout",
          "text": [
            "Model: \"model_euro\"\n",
            "_________________________________________________________________\n",
            " Layer (type)                Output Shape              Param #   \n",
            "=================================================================\n",
            " transfer_layer (KerasLayer)  (None, 1000)             22050664  \n",
            "                                                                 \n",
            " dense (Dense)               (None, 128)               128128    \n",
            "                                                                 \n",
            " output (Dense)              (None, 10)                1290      \n",
            "                                                                 \n",
            "=================================================================\n",
            "Total params: 22,180,082\n",
            "Trainable params: 129,418\n",
            "Non-trainable params: 22,050,664\n",
            "_________________________________________________________________\n"
          ]
        }
      ]
    },
    {
      "cell_type": "code",
      "source": [
        "model_euro_history = model_euro.fit(train_data,\n",
        "                                    epochs=2,\n",
        "                                    validation_data=test_data)"
      ],
      "metadata": {
        "colab": {
          "base_uri": "https://localhost:8080/"
        },
        "id": "_TugaO6BtxS4",
        "outputId": "036de406-4d64-4b36-eb0c-743f38bc5bc6"
      },
      "execution_count": 98,
      "outputs": [
        {
          "output_type": "stream",
          "name": "stdout",
          "text": [
            "Epoch 1/2\n",
            "675/675 [==============================] - 100s 142ms/step - loss: 0.3650 - accuracy: 0.8795 - val_loss: 0.2420 - val_accuracy: 0.9209\n",
            "Epoch 2/2\n",
            "675/675 [==============================] - 93s 138ms/step - loss: 0.2056 - accuracy: 0.9298 - val_loss: 0.2001 - val_accuracy: 0.9348\n"
          ]
        }
      ]
    },
    {
      "cell_type": "markdown",
      "source": [
        "## Model: EfficientNet"
      ],
      "metadata": {
        "id": "0ZnUcXpmWNqX"
      }
    },
    {
      "cell_type": "code",
      "source": [
        "transfer = tf.keras.applications.efficientnet_v2.EfficientNetV2B3(include_top=False)"
      ],
      "metadata": {
        "id": "gYQyW1RTJFBc"
      },
      "execution_count": 128,
      "outputs": []
    },
    {
      "cell_type": "code",
      "source": [
        "transfer.trainable = False"
      ],
      "metadata": {
        "id": "q0allD0vy3Ac"
      },
      "execution_count": 129,
      "outputs": []
    },
    {
      "cell_type": "code",
      "source": [
        "inputs = layers.Input(shape=(224, 224, 3))\n",
        "x = transfer(inputs)\n",
        "x = layers.GlobalAvgPool2D()(x)\n",
        "output = layers.Dense(len(class_names), activation=\"softmax\")(x)\n",
        "\n",
        "model_euro_2 = tf.keras.Model(inputs, output)"
      ],
      "metadata": {
        "id": "3pJqGD77zB5S"
      },
      "execution_count": 133,
      "outputs": []
    },
    {
      "cell_type": "code",
      "source": [
        "model_euro_2.compile(loss=\"sparse_categorical_crossentropy\",\n",
        "                     optimizer=tf.keras.optimizers.Adam(learning_rate=0.01),\n",
        "                     metrics=[\"accuracy\"])"
      ],
      "metadata": {
        "id": "EI0ta3hBzfQ6"
      },
      "execution_count": 134,
      "outputs": []
    },
    {
      "cell_type": "code",
      "source": [
        "model_euro_2_history = model_euro_2.fit(train_data,\n",
        "                                        epochs=3,\n",
        "                                        validation_data=test_data)"
      ],
      "metadata": {
        "colab": {
          "base_uri": "https://localhost:8080/"
        },
        "id": "Mhfk3_RSzrSl",
        "outputId": "4d6ea429-e270-4ae6-af8d-9de9d51bd347"
      },
      "execution_count": 135,
      "outputs": [
        {
          "output_type": "stream",
          "name": "stdout",
          "text": [
            "Epoch 1/3\n",
            "675/675 [==============================] - 92s 123ms/step - loss: 2.2636 - accuracy: 0.1853 - val_loss: 2.0879 - val_accuracy: 0.2113\n",
            "Epoch 2/3\n",
            "675/675 [==============================] - 80s 119ms/step - loss: 2.1784 - accuracy: 0.2093 - val_loss: 2.0160 - val_accuracy: 0.2007\n",
            "Epoch 3/3\n",
            "675/675 [==============================] - 81s 120ms/step - loss: 2.1446 - accuracy: 0.2215 - val_loss: 2.0202 - val_accuracy: 0.2141\n"
          ]
        }
      ]
    },
    {
      "cell_type": "code",
      "source": [
        "model_euro_2.summary()"
      ],
      "metadata": {
        "colab": {
          "base_uri": "https://localhost:8080/"
        },
        "id": "qclBL8dJz4Jm",
        "outputId": "5292841c-3390-44fb-98b9-5786b0d9876d"
      },
      "execution_count": 136,
      "outputs": [
        {
          "output_type": "stream",
          "name": "stdout",
          "text": [
            "Model: \"model_12\"\n",
            "_________________________________________________________________\n",
            " Layer (type)                Output Shape              Param #   \n",
            "=================================================================\n",
            " input_24 (InputLayer)       [(None, 224, 224, 3)]     0         \n",
            "                                                                 \n",
            " efficientnetv2-b3 (Function  (None, None, None, 1536)  12930622 \n",
            " al)                                                             \n",
            "                                                                 \n",
            " global_average_pooling2d_3   (None, 1536)             0         \n",
            " (GlobalAveragePooling2D)                                        \n",
            "                                                                 \n",
            " dense_24 (Dense)            (None, 10)                15370     \n",
            "                                                                 \n",
            "=================================================================\n",
            "Total params: 12,945,992\n",
            "Trainable params: 15,370\n",
            "Non-trainable params: 12,930,622\n",
            "_________________________________________________________________\n"
          ]
        }
      ]
    },
    {
      "cell_type": "code",
      "source": [
        "transfer.trainable = True\n",
        "\n",
        "for layer in transfer.layers[:-10]:\n",
        "  layer.trainable = False"
      ],
      "metadata": {
        "id": "wv9JsOeP0QJ9"
      },
      "execution_count": 137,
      "outputs": []
    },
    {
      "cell_type": "code",
      "source": [
        "for layer_number, layer in enumerate(transfer.layers[-15:]):\n",
        "  print(layer_number, layer.name, layer.trainable)"
      ],
      "metadata": {
        "colab": {
          "base_uri": "https://localhost:8080/"
        },
        "id": "XyctRphT1Bgx",
        "outputId": "13dcb54b-8ddd-44d7-9386-86e79c2acb53"
      },
      "execution_count": 140,
      "outputs": [
        {
          "output_type": "stream",
          "name": "stdout",
          "text": [
            "0 block6l_dwconv2 False\n",
            "1 block6l_bn False\n",
            "2 block6l_activation False\n",
            "3 block6l_se_squeeze False\n",
            "4 block6l_se_reshape False\n",
            "5 block6l_se_reduce True\n",
            "6 block6l_se_expand True\n",
            "7 block6l_se_excite True\n",
            "8 block6l_project_conv True\n",
            "9 block6l_project_bn True\n",
            "10 block6l_drop True\n",
            "11 block6l_add True\n",
            "12 top_conv True\n",
            "13 top_bn True\n",
            "14 top_activation True\n"
          ]
        }
      ]
    },
    {
      "cell_type": "code",
      "source": [
        "model_euro_2.compile(loss=\"sparse_categorical_crossentropy\",\n",
        "                     optimizer=tf.keras.optimizers.Adam(learning_rate=0.01),\n",
        "                     metrics=[\"accuracy\"])"
      ],
      "metadata": {
        "id": "0ejcQjAs3Hp7"
      },
      "execution_count": 141,
      "outputs": []
    },
    {
      "cell_type": "code",
      "source": [
        "model_euro_2_history = model_euro_2.fit(train_data,\n",
        "                                        epochs=3,\n",
        "                                        validation_data=test_data)"
      ],
      "metadata": {
        "colab": {
          "base_uri": "https://localhost:8080/"
        },
        "id": "pORi79-i78pP",
        "outputId": "103d29da-6525-4fc4-8d08-2d8279abcb47"
      },
      "execution_count": 142,
      "outputs": [
        {
          "output_type": "stream",
          "name": "stdout",
          "text": [
            "Epoch 1/3\n",
            "675/675 [==============================] - 96s 125ms/step - loss: 2.1846 - accuracy: 0.2107 - val_loss: 2.1013 - val_accuracy: 0.2583\n",
            "Epoch 2/3\n",
            "675/675 [==============================] - 82s 121ms/step - loss: 1.9945 - accuracy: 0.2422 - val_loss: 1.8905 - val_accuracy: 0.2635\n",
            "Epoch 3/3\n",
            "675/675 [==============================] - 83s 123ms/step - loss: 1.9431 - accuracy: 0.2556 - val_loss: 1.7693 - val_accuracy: 0.3259\n"
          ]
        }
      ]
    },
    {
      "cell_type": "code",
      "source": [
        "#model_euro_2.save(\"model_euro.h5\")"
      ],
      "metadata": {
        "id": "4YQwyMpj8xj8"
      },
      "execution_count": 148,
      "outputs": []
    },
    {
      "cell_type": "code",
      "source": [],
      "metadata": {
        "id": "KrQljXfe9YLz"
      },
      "execution_count": null,
      "outputs": []
    }
  ]
}