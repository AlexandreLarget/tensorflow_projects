{
  "nbformat": 4,
  "nbformat_minor": 0,
  "metadata": {
    "colab": {
      "provenance": [],
      "collapsed_sections": [],
      "authorship_tag": "ABX9TyNn8ZYe+6bjGSNeV5yj/p9S",
      "include_colab_link": true
    },
    "kernelspec": {
      "name": "python3",
      "display_name": "Python 3"
    },
    "language_info": {
      "name": "python"
    },
    "accelerator": "GPU",
    "gpuClass": "standard",
    "widgets": {
      "application/vnd.jupyter.widget-state+json": {
        "e5537a87efc8487cb1c6937ba48af009": {
          "model_module": "@jupyter-widgets/controls",
          "model_name": "HBoxModel",
          "model_module_version": "1.5.0",
          "state": {
            "_dom_classes": [],
            "_model_module": "@jupyter-widgets/controls",
            "_model_module_version": "1.5.0",
            "_model_name": "HBoxModel",
            "_view_count": null,
            "_view_module": "@jupyter-widgets/controls",
            "_view_module_version": "1.5.0",
            "_view_name": "HBoxView",
            "box_style": "",
            "children": [
              "IPY_MODEL_8367313f7cd24668ad2bf0128f9904ea",
              "IPY_MODEL_3a21220eb2f842c78bfb6f0b1d167774",
              "IPY_MODEL_e248324185024a35a818354d618fa9f6"
            ],
            "layout": "IPY_MODEL_cfc37d8b73ba4a32b950de6d03c68232"
          }
        },
        "8367313f7cd24668ad2bf0128f9904ea": {
          "model_module": "@jupyter-widgets/controls",
          "model_name": "HTMLModel",
          "model_module_version": "1.5.0",
          "state": {
            "_dom_classes": [],
            "_model_module": "@jupyter-widgets/controls",
            "_model_module_version": "1.5.0",
            "_model_name": "HTMLModel",
            "_view_count": null,
            "_view_module": "@jupyter-widgets/controls",
            "_view_module_version": "1.5.0",
            "_view_name": "HTMLView",
            "description": "",
            "description_tooltip": null,
            "layout": "IPY_MODEL_6fd14f9ea7dc4430b809bb626b9528a6",
            "placeholder": "​",
            "style": "IPY_MODEL_905a60e9cb6a4258a95ebbb1acf6695c",
            "value": "Dl Completed...: 100%"
          }
        },
        "3a21220eb2f842c78bfb6f0b1d167774": {
          "model_module": "@jupyter-widgets/controls",
          "model_name": "FloatProgressModel",
          "model_module_version": "1.5.0",
          "state": {
            "_dom_classes": [],
            "_model_module": "@jupyter-widgets/controls",
            "_model_module_version": "1.5.0",
            "_model_name": "FloatProgressModel",
            "_view_count": null,
            "_view_module": "@jupyter-widgets/controls",
            "_view_module_version": "1.5.0",
            "_view_name": "ProgressView",
            "bar_style": "success",
            "description": "",
            "description_tooltip": null,
            "layout": "IPY_MODEL_889dfeac52a04d83b403f1939647b8fe",
            "max": 4,
            "min": 0,
            "orientation": "horizontal",
            "style": "IPY_MODEL_c032ec4009e945c4b1e6d4841117d8bb",
            "value": 4
          }
        },
        "e248324185024a35a818354d618fa9f6": {
          "model_module": "@jupyter-widgets/controls",
          "model_name": "HTMLModel",
          "model_module_version": "1.5.0",
          "state": {
            "_dom_classes": [],
            "_model_module": "@jupyter-widgets/controls",
            "_model_module_version": "1.5.0",
            "_model_name": "HTMLModel",
            "_view_count": null,
            "_view_module": "@jupyter-widgets/controls",
            "_view_module_version": "1.5.0",
            "_view_name": "HTMLView",
            "description": "",
            "description_tooltip": null,
            "layout": "IPY_MODEL_dfe29d75bb07444dab515d59a24d993b",
            "placeholder": "​",
            "style": "IPY_MODEL_4edb6021f3924eb89ae1fc67757483f2",
            "value": " 4/4 [00:03&lt;00:00,  1.03s/ file]"
          }
        },
        "cfc37d8b73ba4a32b950de6d03c68232": {
          "model_module": "@jupyter-widgets/base",
          "model_name": "LayoutModel",
          "model_module_version": "1.2.0",
          "state": {
            "_model_module": "@jupyter-widgets/base",
            "_model_module_version": "1.2.0",
            "_model_name": "LayoutModel",
            "_view_count": null,
            "_view_module": "@jupyter-widgets/base",
            "_view_module_version": "1.2.0",
            "_view_name": "LayoutView",
            "align_content": null,
            "align_items": null,
            "align_self": null,
            "border": null,
            "bottom": null,
            "display": null,
            "flex": null,
            "flex_flow": null,
            "grid_area": null,
            "grid_auto_columns": null,
            "grid_auto_flow": null,
            "grid_auto_rows": null,
            "grid_column": null,
            "grid_gap": null,
            "grid_row": null,
            "grid_template_areas": null,
            "grid_template_columns": null,
            "grid_template_rows": null,
            "height": null,
            "justify_content": null,
            "justify_items": null,
            "left": null,
            "margin": null,
            "max_height": null,
            "max_width": null,
            "min_height": null,
            "min_width": null,
            "object_fit": null,
            "object_position": null,
            "order": null,
            "overflow": null,
            "overflow_x": null,
            "overflow_y": null,
            "padding": null,
            "right": null,
            "top": null,
            "visibility": null,
            "width": null
          }
        },
        "6fd14f9ea7dc4430b809bb626b9528a6": {
          "model_module": "@jupyter-widgets/base",
          "model_name": "LayoutModel",
          "model_module_version": "1.2.0",
          "state": {
            "_model_module": "@jupyter-widgets/base",
            "_model_module_version": "1.2.0",
            "_model_name": "LayoutModel",
            "_view_count": null,
            "_view_module": "@jupyter-widgets/base",
            "_view_module_version": "1.2.0",
            "_view_name": "LayoutView",
            "align_content": null,
            "align_items": null,
            "align_self": null,
            "border": null,
            "bottom": null,
            "display": null,
            "flex": null,
            "flex_flow": null,
            "grid_area": null,
            "grid_auto_columns": null,
            "grid_auto_flow": null,
            "grid_auto_rows": null,
            "grid_column": null,
            "grid_gap": null,
            "grid_row": null,
            "grid_template_areas": null,
            "grid_template_columns": null,
            "grid_template_rows": null,
            "height": null,
            "justify_content": null,
            "justify_items": null,
            "left": null,
            "margin": null,
            "max_height": null,
            "max_width": null,
            "min_height": null,
            "min_width": null,
            "object_fit": null,
            "object_position": null,
            "order": null,
            "overflow": null,
            "overflow_x": null,
            "overflow_y": null,
            "padding": null,
            "right": null,
            "top": null,
            "visibility": null,
            "width": null
          }
        },
        "905a60e9cb6a4258a95ebbb1acf6695c": {
          "model_module": "@jupyter-widgets/controls",
          "model_name": "DescriptionStyleModel",
          "model_module_version": "1.5.0",
          "state": {
            "_model_module": "@jupyter-widgets/controls",
            "_model_module_version": "1.5.0",
            "_model_name": "DescriptionStyleModel",
            "_view_count": null,
            "_view_module": "@jupyter-widgets/base",
            "_view_module_version": "1.2.0",
            "_view_name": "StyleView",
            "description_width": ""
          }
        },
        "889dfeac52a04d83b403f1939647b8fe": {
          "model_module": "@jupyter-widgets/base",
          "model_name": "LayoutModel",
          "model_module_version": "1.2.0",
          "state": {
            "_model_module": "@jupyter-widgets/base",
            "_model_module_version": "1.2.0",
            "_model_name": "LayoutModel",
            "_view_count": null,
            "_view_module": "@jupyter-widgets/base",
            "_view_module_version": "1.2.0",
            "_view_name": "LayoutView",
            "align_content": null,
            "align_items": null,
            "align_self": null,
            "border": null,
            "bottom": null,
            "display": null,
            "flex": null,
            "flex_flow": null,
            "grid_area": null,
            "grid_auto_columns": null,
            "grid_auto_flow": null,
            "grid_auto_rows": null,
            "grid_column": null,
            "grid_gap": null,
            "grid_row": null,
            "grid_template_areas": null,
            "grid_template_columns": null,
            "grid_template_rows": null,
            "height": null,
            "justify_content": null,
            "justify_items": null,
            "left": null,
            "margin": null,
            "max_height": null,
            "max_width": null,
            "min_height": null,
            "min_width": null,
            "object_fit": null,
            "object_position": null,
            "order": null,
            "overflow": null,
            "overflow_x": null,
            "overflow_y": null,
            "padding": null,
            "right": null,
            "top": null,
            "visibility": null,
            "width": null
          }
        },
        "c032ec4009e945c4b1e6d4841117d8bb": {
          "model_module": "@jupyter-widgets/controls",
          "model_name": "ProgressStyleModel",
          "model_module_version": "1.5.0",
          "state": {
            "_model_module": "@jupyter-widgets/controls",
            "_model_module_version": "1.5.0",
            "_model_name": "ProgressStyleModel",
            "_view_count": null,
            "_view_module": "@jupyter-widgets/base",
            "_view_module_version": "1.2.0",
            "_view_name": "StyleView",
            "bar_color": null,
            "description_width": ""
          }
        },
        "dfe29d75bb07444dab515d59a24d993b": {
          "model_module": "@jupyter-widgets/base",
          "model_name": "LayoutModel",
          "model_module_version": "1.2.0",
          "state": {
            "_model_module": "@jupyter-widgets/base",
            "_model_module_version": "1.2.0",
            "_model_name": "LayoutModel",
            "_view_count": null,
            "_view_module": "@jupyter-widgets/base",
            "_view_module_version": "1.2.0",
            "_view_name": "LayoutView",
            "align_content": null,
            "align_items": null,
            "align_self": null,
            "border": null,
            "bottom": null,
            "display": null,
            "flex": null,
            "flex_flow": null,
            "grid_area": null,
            "grid_auto_columns": null,
            "grid_auto_flow": null,
            "grid_auto_rows": null,
            "grid_column": null,
            "grid_gap": null,
            "grid_row": null,
            "grid_template_areas": null,
            "grid_template_columns": null,
            "grid_template_rows": null,
            "height": null,
            "justify_content": null,
            "justify_items": null,
            "left": null,
            "margin": null,
            "max_height": null,
            "max_width": null,
            "min_height": null,
            "min_width": null,
            "object_fit": null,
            "object_position": null,
            "order": null,
            "overflow": null,
            "overflow_x": null,
            "overflow_y": null,
            "padding": null,
            "right": null,
            "top": null,
            "visibility": null,
            "width": null
          }
        },
        "4edb6021f3924eb89ae1fc67757483f2": {
          "model_module": "@jupyter-widgets/controls",
          "model_name": "DescriptionStyleModel",
          "model_module_version": "1.5.0",
          "state": {
            "_model_module": "@jupyter-widgets/controls",
            "_model_module_version": "1.5.0",
            "_model_name": "DescriptionStyleModel",
            "_view_count": null,
            "_view_module": "@jupyter-widgets/base",
            "_view_module_version": "1.2.0",
            "_view_name": "StyleView",
            "description_width": ""
          }
        }
      }
    }
  },
  "cells": [
    {
      "cell_type": "markdown",
      "metadata": {
        "id": "view-in-github",
        "colab_type": "text"
      },
      "source": [
        "<a href=\"https://colab.research.google.com/github/AlexandreLarget/tensorflow_projects/blob/main/Image_classification_MNIST.ipynb\" target=\"_parent\"><img src=\"https://colab.research.google.com/assets/colab-badge.svg\" alt=\"Open In Colab\"/></a>"
      ]
    },
    {
      "cell_type": "markdown",
      "source": [
        "**<h2>Projet:</h2>**\n",
        "Create a model for handwritten recognition.\n",
        "\n",
        "**<h2>Model:</h2>**\n",
        "Traditional CNN."
      ],
      "metadata": {
        "id": "fvK9Gtd1W7-v"
      }
    },
    {
      "cell_type": "code",
      "source": [
        "!nvidia-smi -L"
      ],
      "metadata": {
        "colab": {
          "base_uri": "https://localhost:8080/"
        },
        "id": "WNKKzMISyhwD",
        "outputId": "d99fd09b-446b-4076-eb1c-3d1a1a51815c"
      },
      "execution_count": 1,
      "outputs": [
        {
          "output_type": "stream",
          "name": "stdout",
          "text": [
            "GPU 0: Tesla T4 (UUID: GPU-f29d23a2-068a-155a-10b3-635c1c84afbb)\n"
          ]
        }
      ]
    },
    {
      "cell_type": "markdown",
      "source": [
        "## Discover and visualize the datas"
      ],
      "metadata": {
        "id": "CSoPWH5kj2Eu"
      }
    },
    {
      "cell_type": "code",
      "source": [
        "import tensorflow as tf\n",
        "import tensorflow_datasets as tfds\n",
        "import numpy as np\n",
        "import matplotlib.pyplot as plt"
      ],
      "metadata": {
        "id": "W0rnniksWYDZ"
      },
      "execution_count": 2,
      "outputs": []
    },
    {
      "cell_type": "code",
      "source": [
        "(train_data, test_data), info = tfds.load(\"mnist\", \n",
        "                     split=[\"train\", \"test\"],\n",
        "                     shuffle_files=True,\n",
        "                     as_supervised=True, \n",
        "                     with_info=True)"
      ],
      "metadata": {
        "id": "58kjwZyTWqIs",
        "colab": {
          "base_uri": "https://localhost:8080/",
          "height": 85,
          "referenced_widgets": [
            "e5537a87efc8487cb1c6937ba48af009",
            "8367313f7cd24668ad2bf0128f9904ea",
            "3a21220eb2f842c78bfb6f0b1d167774",
            "e248324185024a35a818354d618fa9f6",
            "cfc37d8b73ba4a32b950de6d03c68232",
            "6fd14f9ea7dc4430b809bb626b9528a6",
            "905a60e9cb6a4258a95ebbb1acf6695c",
            "889dfeac52a04d83b403f1939647b8fe",
            "c032ec4009e945c4b1e6d4841117d8bb",
            "dfe29d75bb07444dab515d59a24d993b",
            "4edb6021f3924eb89ae1fc67757483f2"
          ]
        },
        "outputId": "73d9cbd4-0e7e-48e7-b82a-bbcc778d9ac1"
      },
      "execution_count": 3,
      "outputs": [
        {
          "output_type": "stream",
          "name": "stdout",
          "text": [
            "Downloading and preparing dataset 11.06 MiB (download: 11.06 MiB, generated: 21.00 MiB, total: 32.06 MiB) to ~/tensorflow_datasets/mnist/3.0.1...\n"
          ]
        },
        {
          "output_type": "display_data",
          "data": {
            "text/plain": [
              "Dl Completed...:   0%|          | 0/4 [00:00<?, ? file/s]"
            ],
            "application/vnd.jupyter.widget-view+json": {
              "version_major": 2,
              "version_minor": 0,
              "model_id": "e5537a87efc8487cb1c6937ba48af009"
            }
          },
          "metadata": {}
        },
        {
          "output_type": "stream",
          "name": "stdout",
          "text": [
            "Dataset mnist downloaded and prepared to ~/tensorflow_datasets/mnist/3.0.1. Subsequent calls will reuse this data.\n"
          ]
        }
      ]
    },
    {
      "cell_type": "code",
      "source": [
        "info.features"
      ],
      "metadata": {
        "colab": {
          "base_uri": "https://localhost:8080/"
        },
        "id": "B4oE55paYA1Y",
        "outputId": "23f42189-ef4e-46b4-ca09-6225fb13736d"
      },
      "execution_count": 8,
      "outputs": [
        {
          "output_type": "execute_result",
          "data": {
            "text/plain": [
              "FeaturesDict({\n",
              "    'image': Image(shape=(28, 28, 1), dtype=tf.uint8),\n",
              "    'label': ClassLabel(shape=(), dtype=tf.int64, num_classes=10),\n",
              "})"
            ]
          },
          "metadata": {},
          "execution_count": 8
        }
      ]
    },
    {
      "cell_type": "code",
      "source": [
        "class_names = info.features[\"label\"].names\n",
        "class_names[:10], len(class_names)"
      ],
      "metadata": {
        "id": "VqwHepXpXCbR",
        "colab": {
          "base_uri": "https://localhost:8080/"
        },
        "outputId": "831bb57d-3ce0-4795-b367-dcc03fa8a8ea"
      },
      "execution_count": 6,
      "outputs": [
        {
          "output_type": "execute_result",
          "data": {
            "text/plain": [
              "(['0', '1', '2', '3', '4', '5', '6', '7', '8', '9'], 10)"
            ]
          },
          "metadata": {},
          "execution_count": 6
        }
      ]
    },
    {
      "cell_type": "code",
      "source": [
        "def montre_une_image(dataset):\n",
        "  data = dataset.shuffle(int(len(dataset)/100))\n",
        "  sample = data.take(1)\n",
        "\n",
        "  for image, label in sample:\n",
        "    print(f\"Image shape: {image.shape}\")\n",
        "    print(f\"Image dtype: {image.dtype}\")\n",
        "    print(f\"Label num: {label}\")\n",
        "    print(f\"Label str: {class_names[label]}\")\n",
        "\n",
        "  image = tf.squeeze(image)\n",
        "  plt.imshow(image)\n",
        "  plt.axis(False)"
      ],
      "metadata": {
        "id": "e7bSsrmLb8KQ"
      },
      "execution_count": null,
      "outputs": []
    },
    {
      "cell_type": "code",
      "source": [
        "montre_une_image(train_data)"
      ],
      "metadata": {
        "id": "vUMWpim4uvLU",
        "colab": {
          "base_uri": "https://localhost:8080/",
          "height": 319
        },
        "outputId": "ce482c2c-ad76-4fd8-b07a-1d03ae1d8156"
      },
      "execution_count": null,
      "outputs": [
        {
          "output_type": "stream",
          "name": "stdout",
          "text": [
            "Image shape: (28, 28, 1)\n",
            "Image dtype: <dtype: 'uint8'>\n",
            "Label num: 9\n",
            "Label str: 9\n"
          ]
        },
        {
          "output_type": "display_data",
          "data": {
            "text/plain": [
              "<Figure size 432x288 with 1 Axes>"
            ],
            "image/png": "[encoded data removed]"
          },
          "metadata": {
            "needs_background": "light"
          }
        }
      ]
    },
    {
      "cell_type": "markdown",
      "source": [
        "## Data preprocessing"
      ],
      "metadata": {
        "id": "H84oyncFe9TZ"
      }
    },
    {
      "cell_type": "code",
      "source": [
        "def preprocessing_images(image, label, img_size=28):\n",
        "  \"\"\"\n",
        "  Converts images datatypes from uint8 to float32 and reshape them to [img_shape, img_shape, 3]\n",
        "  \"\"\"\n",
        "  image = tf.image.resize(image, [img_size, img_size])\n",
        "  image = image / 255\n",
        "  return tf.cast(image, tf.float32), label"
      ],
      "metadata": {
        "id": "UsaoYOj_kA1K"
      },
      "execution_count": null,
      "outputs": []
    },
    {
      "cell_type": "code",
      "source": [
        "train_data = train_data.map(map_func=preprocessing_images, num_parallel_calls=tf.data.AUTOTUNE)\n",
        "test_data = test_data.map(preprocessing_images, num_parallel_calls=tf.data.AUTOTUNE)"
      ],
      "metadata": {
        "id": "hiroN54pky27"
      },
      "execution_count": null,
      "outputs": []
    },
    {
      "cell_type": "code",
      "source": [
        "train_data = train_data.shuffle(buffer_size=1000).batch(32).prefetch(tf.data.AUTOTUNE)\n",
        "test_data = test_data.batch(32).prefetch(tf.data.AUTOTUNE)"
      ],
      "metadata": {
        "id": "884AugCblp0j"
      },
      "execution_count": null,
      "outputs": []
    },
    {
      "cell_type": "code",
      "source": [
        "train_data"
      ],
      "metadata": {
        "id": "AV4s3bLVly4B",
        "colab": {
          "base_uri": "https://localhost:8080/"
        },
        "outputId": "0291cfa4-ac96-4b33-c211-b939c3634499"
      },
      "execution_count": null,
      "outputs": [
        {
          "output_type": "execute_result",
          "data": {
            "text/plain": [
              "<PrefetchDataset element_spec=(TensorSpec(shape=(None, 28, 28, 1), dtype=tf.float32, name=None), TensorSpec(shape=(None,), dtype=tf.int64, name=None))>"
            ]
          },
          "metadata": {},
          "execution_count": 17
        }
      ]
    },
    {
      "cell_type": "markdown",
      "source": [
        "## Model 1: Conv 2D"
      ],
      "metadata": {
        "id": "6o3p5Ob1mA0m"
      }
    },
    {
      "cell_type": "code",
      "source": [
        "# Create the model\n",
        "from tensorflow.keras import layers\n",
        "\n",
        "inputs = layers.Input(shape=(28, 28, 1), dtype=\"float32\")\n",
        "x = layers.Conv2D(filters=16, kernel_size=3, activation=\"relu\")(inputs)\n",
        "x = layers.Conv2D(filters=16, kernel_size=3, activation=\"relu\")(x)\n",
        "x = layers.Conv2D(filters=16, kernel_size=3, activation=\"relu\")(x)\n",
        "x = layers.Conv2D(filters=16, kernel_size=3, activation=\"relu\")(x)\n",
        "x = layers.Conv2D(filters=16, kernel_size=3, activation=\"relu\")(x)\n",
        "x = layers.Conv2D(filters=16, kernel_size=3, activation=\"relu\")(x)\n",
        "x = layers.Conv2D(filters=16, kernel_size=3, activation=\"relu\")(x)\n",
        "x = layers.Conv2D(filters=16, kernel_size=3, activation=\"relu\")(x)\n",
        "x = layers.Conv2D(filters=16, kernel_size=3, activation=\"relu\")(x)\n",
        "x = layers.Conv2D(filters=16, kernel_size=3, activation=\"relu\")(x)\n",
        "x = layers.GlobalAvgPool2D()(x)\n",
        "x = layers.Dense(64, activation=\"relu\")(x)\n",
        "output = layers.Dense(len(class_names), activation=\"softmax\")(x)\n",
        "\n",
        "model_1 = tf.keras.Model(inputs, output)"
      ],
      "metadata": {
        "id": "F2-rR2bsmUbu"
      },
      "execution_count": null,
      "outputs": []
    },
    {
      "cell_type": "code",
      "source": [
        "# Compile\n",
        "model_1.compile(loss=\"sparse_categorical_crossentropy\",\n",
        "                optimizer=\"Adam\",\n",
        "                metrics=[\"accuracy\"])"
      ],
      "metadata": {
        "id": "_9eAztJLmcYG"
      },
      "execution_count": null,
      "outputs": []
    },
    {
      "cell_type": "code",
      "source": [
        "# Fit the model\n",
        "model_1.fit(train_data,\n",
        "            epochs=10,\n",
        "            validation_data=test_data,\n",
        "            verbose=1,\n",
        "            callbacks=[tf.keras.callbacks.ReduceLROnPlateau(monitor=\"val_loss\",\n",
        "                                                            verbose=1,\n",
        "                                                            patience=2)])"
      ],
      "metadata": {
        "colab": {
          "base_uri": "https://localhost:8080/"
        },
        "id": "zgXdZuKYoitt",
        "outputId": "95ec092e-1173-4d40-c614-20b7483c43f2"
      },
      "execution_count": null,
      "outputs": [
        {
          "output_type": "stream",
          "name": "stdout",
          "text": [
            "Epoch 1/10\n",
            "1875/1875 [==============================] - 37s 12ms/step - loss: 0.4090 - accuracy: 0.8646 - val_loss: 0.0974 - val_accuracy: 0.9673 - lr: 0.0010\n",
            "Epoch 2/10\n",
            "1875/1875 [==============================] - 18s 9ms/step - loss: 0.0992 - accuracy: 0.9702 - val_loss: 0.0542 - val_accuracy: 0.9834 - lr: 0.0010\n",
            "Epoch 3/10\n",
            "1875/1875 [==============================] - 17s 9ms/step - loss: 0.0757 - accuracy: 0.9766 - val_loss: 0.1073 - val_accuracy: 0.9674 - lr: 0.0010\n",
            "Epoch 4/10\n",
            "1874/1875 [============================>.] - ETA: 0s - loss: 0.0633 - accuracy: 0.9807\n",
            "Epoch 4: ReduceLROnPlateau reducing learning rate to 0.00010000000474974513.\n",
            "1875/1875 [==============================] - 19s 10ms/step - loss: 0.0633 - accuracy: 0.9807 - val_loss: 0.0609 - val_accuracy: 0.9809 - lr: 0.0010\n",
            "Epoch 5/10\n",
            "1875/1875 [==============================] - 18s 10ms/step - loss: 0.0315 - accuracy: 0.9898 - val_loss: 0.0305 - val_accuracy: 0.9900 - lr: 1.0000e-04\n",
            "Epoch 6/10\n",
            "1875/1875 [==============================] - 17s 9ms/step - loss: 0.0275 - accuracy: 0.9911 - val_loss: 0.0301 - val_accuracy: 0.9902 - lr: 1.0000e-04\n",
            "Epoch 7/10\n",
            "1875/1875 [==============================] - 19s 10ms/step - loss: 0.0254 - accuracy: 0.9920 - val_loss: 0.0294 - val_accuracy: 0.9905 - lr: 1.0000e-04\n",
            "Epoch 8/10\n",
            "1875/1875 [==============================] - 18s 9ms/step - loss: 0.0240 - accuracy: 0.9923 - val_loss: 0.0284 - val_accuracy: 0.9902 - lr: 1.0000e-04\n",
            "Epoch 9/10\n",
            "1875/1875 [==============================] - 19s 10ms/step - loss: 0.0225 - accuracy: 0.9930 - val_loss: 0.0282 - val_accuracy: 0.9903 - lr: 1.0000e-04\n",
            "Epoch 10/10\n",
            "1875/1875 [==============================] - 19s 10ms/step - loss: 0.0212 - accuracy: 0.9931 - val_loss: 0.0286 - val_accuracy: 0.9903 - lr: 1.0000e-04\n"
          ]
        },
        {
          "output_type": "execute_result",
          "data": {
            "text/plain": [
              "<keras.callbacks.History at 0x7f28cc196a10>"
            ]
          },
          "metadata": {},
          "execution_count": 20
        }
      ]
    },
    {
      "cell_type": "code",
      "source": [
        "model_1.summary()"
      ],
      "metadata": {
        "id": "2WjBCr96o1Tr",
        "colab": {
          "base_uri": "https://localhost:8080/"
        },
        "outputId": "80a467ec-51e5-4a5d-91c1-2727e0f93c67"
      },
      "execution_count": null,
      "outputs": [
        {
          "output_type": "stream",
          "name": "stdout",
          "text": [
            "Model: \"model\"\n",
            "_________________________________________________________________\n",
            " Layer (type)                Output Shape              Param #   \n",
            "=================================================================\n",
            " input_1 (InputLayer)        [(None, 28, 28, 1)]       0         \n",
            "                                                                 \n",
            " conv2d (Conv2D)             (None, 26, 26, 16)        160       \n",
            "                                                                 \n",
            " conv2d_1 (Conv2D)           (None, 24, 24, 16)        2320      \n",
            "                                                                 \n",
            " conv2d_2 (Conv2D)           (None, 22, 22, 16)        2320      \n",
            "                                                                 \n",
            " conv2d_3 (Conv2D)           (None, 20, 20, 16)        2320      \n",
            "                                                                 \n",
            " conv2d_4 (Conv2D)           (None, 18, 18, 16)        2320      \n",
            "                                                                 \n",
            " conv2d_5 (Conv2D)           (None, 16, 16, 16)        2320      \n",
            "                                                                 \n",
            " conv2d_6 (Conv2D)           (None, 14, 14, 16)        2320      \n",
            "                                                                 \n",
            " conv2d_7 (Conv2D)           (None, 12, 12, 16)        2320      \n",
            "                                                                 \n",
            " conv2d_8 (Conv2D)           (None, 10, 10, 16)        2320      \n",
            "                                                                 \n",
            " conv2d_9 (Conv2D)           (None, 8, 8, 16)          2320      \n",
            "                                                                 \n",
            " global_average_pooling2d (G  (None, 16)               0         \n",
            " lobalAveragePooling2D)                                          \n",
            "                                                                 \n",
            " dense (Dense)               (None, 64)                1088      \n",
            "                                                                 \n",
            " dense_1 (Dense)             (None, 10)                650       \n",
            "                                                                 \n",
            "=================================================================\n",
            "Total params: 22,778\n",
            "Trainable params: 22,778\n",
            "Non-trainable params: 0\n",
            "_________________________________________________________________\n"
          ]
        }
      ]
    },
    {
      "cell_type": "code",
      "source": [],
      "metadata": {
        "id": "hv6JECGx9Ave"
      },
      "execution_count": null,
      "outputs": []
    }
  ]
}