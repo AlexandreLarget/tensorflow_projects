{
  "nbformat": 4,
  "nbformat_minor": 0,
  "metadata": {
    "colab": {
      "provenance": [],
      "collapsed_sections": [],
      "authorship_tag": "ABX9TyNJjGGbkTmPwb4WgChI8CUQ",
      "include_colab_link": true
    },
    "kernelspec": {
      "name": "python3",
      "display_name": "Python 3"
    },
    "language_info": {
      "name": "python"
    },
    "accelerator": "GPU",
    "gpuClass": "standard",
    "widgets": {
      "application/vnd.jupyter.widget-state+json": {
        "34fc0e49d5e049db9f1c091107d06bb2": {
          "model_module": "@jupyter-widgets/controls",
          "model_name": "HBoxModel",
          "model_module_version": "1.5.0",
          "state": {
            "_dom_classes": [],
            "_model_module": "@jupyter-widgets/controls",
            "_model_module_version": "1.5.0",
            "_model_name": "HBoxModel",
            "_view_count": null,
            "_view_module": "@jupyter-widgets/controls",
            "_view_module_version": "1.5.0",
            "_view_name": "HBoxView",
            "box_style": "",
            "children": [
              "IPY_MODEL_87ba1ee93e8749e0a5f22147c57e9793",
              "IPY_MODEL_fa9447ea5c3845b5a57a17c8e73f452d",
              "IPY_MODEL_75d2e6e07d1a47ec97c349b1e46b88a7"
            ],
            "layout": "IPY_MODEL_f5f3557f5a894987bb7918ef55120456"
          }
        },
        "87ba1ee93e8749e0a5f22147c57e9793": {
          "model_module": "@jupyter-widgets/controls",
          "model_name": "HTMLModel",
          "model_module_version": "1.5.0",
          "state": {
            "_dom_classes": [],
            "_model_module": "@jupyter-widgets/controls",
            "_model_module_version": "1.5.0",
            "_model_name": "HTMLModel",
            "_view_count": null,
            "_view_module": "@jupyter-widgets/controls",
            "_view_module_version": "1.5.0",
            "_view_name": "HTMLView",
            "description": "",
            "description_tooltip": null,
            "layout": "IPY_MODEL_e969d33e5b564c0e9dcc299818c8c212",
            "placeholder": "​",
            "style": "IPY_MODEL_aaf2059da85c4beb952b9833357b7506",
            "value": "Dl Completed...: 100%"
          }
        },
        "fa9447ea5c3845b5a57a17c8e73f452d": {
          "model_module": "@jupyter-widgets/controls",
          "model_name": "FloatProgressModel",
          "model_module_version": "1.5.0",
          "state": {
            "_dom_classes": [],
            "_model_module": "@jupyter-widgets/controls",
            "_model_module_version": "1.5.0",
            "_model_name": "FloatProgressModel",
            "_view_count": null,
            "_view_module": "@jupyter-widgets/controls",
            "_view_module_version": "1.5.0",
            "_view_name": "ProgressView",
            "bar_style": "success",
            "description": "",
            "description_tooltip": null,
            "layout": "IPY_MODEL_e2d37c48986348e9bc9ef8d3d965732d",
            "max": 4,
            "min": 0,
            "orientation": "horizontal",
            "style": "IPY_MODEL_56f2364c60d847c9be0481374a3ebd3b",
            "value": 4
          }
        },
        "75d2e6e07d1a47ec97c349b1e46b88a7": {
          "model_module": "@jupyter-widgets/controls",
          "model_name": "HTMLModel",
          "model_module_version": "1.5.0",
          "state": {
            "_dom_classes": [],
            "_model_module": "@jupyter-widgets/controls",
            "_model_module_version": "1.5.0",
            "_model_name": "HTMLModel",
            "_view_count": null,
            "_view_module": "@jupyter-widgets/controls",
            "_view_module_version": "1.5.0",
            "_view_name": "HTMLView",
            "description": "",
            "description_tooltip": null,
            "layout": "IPY_MODEL_5240e3875a1a4fb9aa2b974cc5525ca5",
            "placeholder": "​",
            "style": "IPY_MODEL_f0c62e9de9284beba96d2b3ee15d6e40",
            "value": " 4/4 [00:00&lt;00:00,  9.54 file/s]"
          }
        },
        "f5f3557f5a894987bb7918ef55120456": {
          "model_module": "@jupyter-widgets/base",
          "model_name": "LayoutModel",
          "model_module_version": "1.2.0",
          "state": {
            "_model_module": "@jupyter-widgets/base",
            "_model_module_version": "1.2.0",
            "_model_name": "LayoutModel",
            "_view_count": null,
            "_view_module": "@jupyter-widgets/base",
            "_view_module_version": "1.2.0",
            "_view_name": "LayoutView",
            "align_content": null,
            "align_items": null,
            "align_self": null,
            "border": null,
            "bottom": null,
            "display": null,
            "flex": null,
            "flex_flow": null,
            "grid_area": null,
            "grid_auto_columns": null,
            "grid_auto_flow": null,
            "grid_auto_rows": null,
            "grid_column": null,
            "grid_gap": null,
            "grid_row": null,
            "grid_template_areas": null,
            "grid_template_columns": null,
            "grid_template_rows": null,
            "height": null,
            "justify_content": null,
            "justify_items": null,
            "left": null,
            "margin": null,
            "max_height": null,
            "max_width": null,
            "min_height": null,
            "min_width": null,
            "object_fit": null,
            "object_position": null,
            "order": null,
            "overflow": null,
            "overflow_x": null,
            "overflow_y": null,
            "padding": null,
            "right": null,
            "top": null,
            "visibility": null,
            "width": null
          }
        },
        "e969d33e5b564c0e9dcc299818c8c212": {
          "model_module": "@jupyter-widgets/base",
          "model_name": "LayoutModel",
          "model_module_version": "1.2.0",
          "state": {
            "_model_module": "@jupyter-widgets/base",
            "_model_module_version": "1.2.0",
            "_model_name": "LayoutModel",
            "_view_count": null,
            "_view_module": "@jupyter-widgets/base",
            "_view_module_version": "1.2.0",
            "_view_name": "LayoutView",
            "align_content": null,
            "align_items": null,
            "align_self": null,
            "border": null,
            "bottom": null,
            "display": null,
            "flex": null,
            "flex_flow": null,
            "grid_area": null,
            "grid_auto_columns": null,
            "grid_auto_flow": null,
            "grid_auto_rows": null,
            "grid_column": null,
            "grid_gap": null,
            "grid_row": null,
            "grid_template_areas": null,
            "grid_template_columns": null,
            "grid_template_rows": null,
            "height": null,
            "justify_content": null,
            "justify_items": null,
            "left": null,
            "margin": null,
            "max_height": null,
            "max_width": null,
            "min_height": null,
            "min_width": null,
            "object_fit": null,
            "object_position": null,
            "order": null,
            "overflow": null,
            "overflow_x": null,
            "overflow_y": null,
            "padding": null,
            "right": null,
            "top": null,
            "visibility": null,
            "width": null
          }
        },
        "aaf2059da85c4beb952b9833357b7506": {
          "model_module": "@jupyter-widgets/controls",
          "model_name": "DescriptionStyleModel",
          "model_module_version": "1.5.0",
          "state": {
            "_model_module": "@jupyter-widgets/controls",
            "_model_module_version": "1.5.0",
            "_model_name": "DescriptionStyleModel",
            "_view_count": null,
            "_view_module": "@jupyter-widgets/base",
            "_view_module_version": "1.2.0",
            "_view_name": "StyleView",
            "description_width": ""
          }
        },
        "e2d37c48986348e9bc9ef8d3d965732d": {
          "model_module": "@jupyter-widgets/base",
          "model_name": "LayoutModel",
          "model_module_version": "1.2.0",
          "state": {
            "_model_module": "@jupyter-widgets/base",
            "_model_module_version": "1.2.0",
            "_model_name": "LayoutModel",
            "_view_count": null,
            "_view_module": "@jupyter-widgets/base",
            "_view_module_version": "1.2.0",
            "_view_name": "LayoutView",
            "align_content": null,
            "align_items": null,
            "align_self": null,
            "border": null,
            "bottom": null,
            "display": null,
            "flex": null,
            "flex_flow": null,
            "grid_area": null,
            "grid_auto_columns": null,
            "grid_auto_flow": null,
            "grid_auto_rows": null,
            "grid_column": null,
            "grid_gap": null,
            "grid_row": null,
            "grid_template_areas": null,
            "grid_template_columns": null,
            "grid_template_rows": null,
            "height": null,
            "justify_content": null,
            "justify_items": null,
            "left": null,
            "margin": null,
            "max_height": null,
            "max_width": null,
            "min_height": null,
            "min_width": null,
            "object_fit": null,
            "object_position": null,
            "order": null,
            "overflow": null,
            "overflow_x": null,
            "overflow_y": null,
            "padding": null,
            "right": null,
            "top": null,
            "visibility": null,
            "width": null
          }
        },
        "56f2364c60d847c9be0481374a3ebd3b": {
          "model_module": "@jupyter-widgets/controls",
          "model_name": "ProgressStyleModel",
          "model_module_version": "1.5.0",
          "state": {
            "_model_module": "@jupyter-widgets/controls",
            "_model_module_version": "1.5.0",
            "_model_name": "ProgressStyleModel",
            "_view_count": null,
            "_view_module": "@jupyter-widgets/base",
            "_view_module_version": "1.2.0",
            "_view_name": "StyleView",
            "bar_color": null,
            "description_width": ""
          }
        },
        "5240e3875a1a4fb9aa2b974cc5525ca5": {
          "model_module": "@jupyter-widgets/base",
          "model_name": "LayoutModel",
          "model_module_version": "1.2.0",
          "state": {
            "_model_module": "@jupyter-widgets/base",
            "_model_module_version": "1.2.0",
            "_model_name": "LayoutModel",
            "_view_count": null,
            "_view_module": "@jupyter-widgets/base",
            "_view_module_version": "1.2.0",
            "_view_name": "LayoutView",
            "align_content": null,
            "align_items": null,
            "align_self": null,
            "border": null,
            "bottom": null,
            "display": null,
            "flex": null,
            "flex_flow": null,
            "grid_area": null,
            "grid_auto_columns": null,
            "grid_auto_flow": null,
            "grid_auto_rows": null,
            "grid_column": null,
            "grid_gap": null,
            "grid_row": null,
            "grid_template_areas": null,
            "grid_template_columns": null,
            "grid_template_rows": null,
            "height": null,
            "justify_content": null,
            "justify_items": null,
            "left": null,
            "margin": null,
            "max_height": null,
            "max_width": null,
            "min_height": null,
            "min_width": null,
            "object_fit": null,
            "object_position": null,
            "order": null,
            "overflow": null,
            "overflow_x": null,
            "overflow_y": null,
            "padding": null,
            "right": null,
            "top": null,
            "visibility": null,
            "width": null
          }
        },
        "f0c62e9de9284beba96d2b3ee15d6e40": {
          "model_module": "@jupyter-widgets/controls",
          "model_name": "DescriptionStyleModel",
          "model_module_version": "1.5.0",
          "state": {
            "_model_module": "@jupyter-widgets/controls",
            "_model_module_version": "1.5.0",
            "_model_name": "DescriptionStyleModel",
            "_view_count": null,
            "_view_module": "@jupyter-widgets/base",
            "_view_module_version": "1.2.0",
            "_view_name": "StyleView",
            "description_width": ""
          }
        }
      }
    }
  },
  "cells": [
    {
      "cell_type": "markdown",
      "metadata": {
        "id": "view-in-github",
        "colab_type": "text"
      },
      "source": [
        "<a href=\"https://colab.research.google.com/github/AlexandreLarget/tensorflow_projects/blob/main/Image_classification_MNIST.ipynb\" target=\"_parent\"><img src=\"https://colab.research.google.com/assets/colab-badge.svg\" alt=\"Open In Colab\"/></a>"
      ]
    },
    {
      "cell_type": "markdown",
      "source": [
        "**<h2>Projet:</h2>**\n",
        "Create a model for handwritten recognition.\n",
        "\n",
        "**<h2>Model:</h2>**\n",
        "Traditional CNN."
      ],
      "metadata": {
        "id": "fvK9Gtd1W7-v"
      }
    },
    {
      "cell_type": "code",
      "source": [
        "!nvidia-smi -L"
      ],
      "metadata": {
        "colab": {
          "base_uri": "https://localhost:8080/"
        },
        "id": "WNKKzMISyhwD",
        "outputId": "af3728e2-70ec-4781-b07a-f14f39b9b0a1"
      },
      "execution_count": 1,
      "outputs": [
        {
          "output_type": "stream",
          "name": "stdout",
          "text": [
            "GPU 0: Tesla T4 (UUID: GPU-cd97d78d-e35b-f00f-6120-e3d2eb5268a3)\n"
          ]
        }
      ]
    },
    {
      "cell_type": "markdown",
      "source": [
        "## Discover and visualize the datas"
      ],
      "metadata": {
        "id": "CSoPWH5kj2Eu"
      }
    },
    {
      "cell_type": "code",
      "source": [
        "import tensorflow as tf\n",
        "import tensorflow_datasets as tfds\n",
        "import numpy as np\n",
        "import matplotlib.pyplot as plt"
      ],
      "metadata": {
        "id": "W0rnniksWYDZ"
      },
      "execution_count": 2,
      "outputs": []
    },
    {
      "cell_type": "code",
      "source": [
        "(train_data, test_data), info = tfds.load(\"mnist\", \n",
        "                     split=[\"train\", \"test\"],\n",
        "                     shuffle_files=True,\n",
        "                     as_supervised=True, \n",
        "                     with_info=True)"
      ],
      "metadata": {
        "id": "58kjwZyTWqIs",
        "colab": {
          "base_uri": "https://localhost:8080/",
          "height": 85,
          "referenced_widgets": [
            "34fc0e49d5e049db9f1c091107d06bb2",
            "87ba1ee93e8749e0a5f22147c57e9793",
            "fa9447ea5c3845b5a57a17c8e73f452d",
            "75d2e6e07d1a47ec97c349b1e46b88a7",
            "f5f3557f5a894987bb7918ef55120456",
            "e969d33e5b564c0e9dcc299818c8c212",
            "aaf2059da85c4beb952b9833357b7506",
            "e2d37c48986348e9bc9ef8d3d965732d",
            "56f2364c60d847c9be0481374a3ebd3b",
            "5240e3875a1a4fb9aa2b974cc5525ca5",
            "f0c62e9de9284beba96d2b3ee15d6e40"
          ]
        },
        "outputId": "c46dad59-b2c4-45d7-9a31-33cb0c608b52"
      },
      "execution_count": 3,
      "outputs": [
        {
          "output_type": "stream",
          "name": "stdout",
          "text": [
            "Downloading and preparing dataset 11.06 MiB (download: 11.06 MiB, generated: 21.00 MiB, total: 32.06 MiB) to ~/tensorflow_datasets/mnist/3.0.1...\n"
          ]
        },
        {
          "output_type": "display_data",
          "data": {
            "text/plain": [
              "Dl Completed...:   0%|          | 0/4 [00:00<?, ? file/s]"
            ],
            "application/vnd.jupyter.widget-view+json": {
              "version_major": 2,
              "version_minor": 0,
              "model_id": "34fc0e49d5e049db9f1c091107d06bb2"
            }
          },
          "metadata": {}
        },
        {
          "output_type": "stream",
          "name": "stdout",
          "text": [
            "Dataset mnist downloaded and prepared to ~/tensorflow_datasets/mnist/3.0.1. Subsequent calls will reuse this data.\n"
          ]
        }
      ]
    },
    {
      "cell_type": "code",
      "source": [
        "info.features"
      ],
      "metadata": {
        "colab": {
          "base_uri": "https://localhost:8080/"
        },
        "id": "B4oE55paYA1Y",
        "outputId": "bf98d9a3-24db-4cc9-ab9e-9e3d9e6040a3"
      },
      "execution_count": 4,
      "outputs": [
        {
          "output_type": "execute_result",
          "data": {
            "text/plain": [
              "FeaturesDict({\n",
              "    'image': Image(shape=(28, 28, 1), dtype=tf.uint8),\n",
              "    'label': ClassLabel(shape=(), dtype=tf.int64, num_classes=10),\n",
              "})"
            ]
          },
          "metadata": {},
          "execution_count": 4
        }
      ]
    },
    {
      "cell_type": "code",
      "source": [
        "train_data"
      ],
      "metadata": {
        "colab": {
          "base_uri": "https://localhost:8080/"
        },
        "id": "6uMvfmGMZS7m",
        "outputId": "e790205c-4382-4537-8978-9ef87215040a"
      },
      "execution_count": 5,
      "outputs": [
        {
          "output_type": "execute_result",
          "data": {
            "text/plain": [
              "<PrefetchDataset element_spec=(TensorSpec(shape=(28, 28, 1), dtype=tf.uint8, name=None), TensorSpec(shape=(), dtype=tf.int64, name=None))>"
            ]
          },
          "metadata": {},
          "execution_count": 5
        }
      ]
    },
    {
      "cell_type": "code",
      "source": [
        "class_names = info.features[\"label\"].names\n",
        "class_names[:10], len(class_names)"
      ],
      "metadata": {
        "id": "VqwHepXpXCbR",
        "colab": {
          "base_uri": "https://localhost:8080/"
        },
        "outputId": "d87e319c-9deb-400b-9402-48b4c034fd1d"
      },
      "execution_count": 6,
      "outputs": [
        {
          "output_type": "execute_result",
          "data": {
            "text/plain": [
              "(['0', '1', '2', '3', '4', '5', '6', '7', '8', '9'], 10)"
            ]
          },
          "metadata": {},
          "execution_count": 6
        }
      ]
    },
    {
      "cell_type": "code",
      "source": [
        "def montre_une_image(dataset):\n",
        "  \"\"\"\n",
        "  Pick a random image from prefetch Dataset, give various info on the image and plot it.\n",
        "\n",
        "  Parameter\n",
        "  ---------\n",
        "  dataset: PrefetchDataset.\n",
        "\n",
        "  Returns\n",
        "  -------\n",
        "  Image shape\n",
        "  Image type\n",
        "  Label number\n",
        "  Label name\n",
        "  Image plot\n",
        "  \"\"\"\n",
        "  \n",
        "  data = dataset.shuffle(int(len(dataset)/100))\n",
        "  sample = data.take(1)\n",
        "\n",
        "  for image, label in sample:\n",
        "    print(f\"Image shape: {image.shape}\")\n",
        "    print(f\"Image dtype: {image.dtype}\")\n",
        "    print(f\"Label num: {label}\")\n",
        "    print(f\"Label str: {class_names[label]}\")\n",
        "\n",
        "  image = tf.squeeze(image)\n",
        "  plt.imshow(image)\n",
        "  plt.axis(False)"
      ],
      "metadata": {
        "id": "e7bSsrmLb8KQ"
      },
      "execution_count": 7,
      "outputs": []
    },
    {
      "cell_type": "code",
      "source": [
        "montre_une_image(train_data)"
      ],
      "metadata": {
        "id": "vUMWpim4uvLU",
        "colab": {
          "base_uri": "https://localhost:8080/",
          "height": 319
        },
        "outputId": "1365321e-2972-439d-9a25-9b0bb1c27b6f"
      },
      "execution_count": 8,
      "outputs": [
        {
          "output_type": "stream",
          "name": "stdout",
          "text": [
            "Image shape: (28, 28, 1)\n",
            "Image dtype: <dtype: 'uint8'>\n",
            "Label num: 6\n",
            "Label str: 6\n"
          ]
        },
        {
          "output_type": "display_data",
          "data": {
            "text/plain": [
              "<Figure size 432x288 with 1 Axes>"
            ],
            "image/png": "[encoded data removed]"
          },
          "metadata": {
            "needs_background": "light"
          }
        }
      ]
    },
    {
      "cell_type": "markdown",
      "source": [
        "## Data preprocessing"
      ],
      "metadata": {
        "id": "H84oyncFe9TZ"
      }
    },
    {
      "cell_type": "code",
      "source": [
        "sample = train_data.take(1)"
      ],
      "metadata": {
        "id": "gwqykW1xaFDN"
      },
      "execution_count": 9,
      "outputs": []
    },
    {
      "cell_type": "code",
      "source": [
        "for image, label in sample:\n",
        "  print(f\"Image shape: {image.shape}\")\n",
        "  print(f\"Image dtype: {image.dtype}\")\n",
        "  print(f\"Label num: {label}\")\n",
        "  print(f\"Label str: {class_names[label]}\")"
      ],
      "metadata": {
        "colab": {
          "base_uri": "https://localhost:8080/"
        },
        "id": "V7we1FS1aP6_",
        "outputId": "10e79b85-12bb-4314-d31b-a74a75331ae6"
      },
      "execution_count": 10,
      "outputs": [
        {
          "output_type": "stream",
          "name": "stdout",
          "text": [
            "Image shape: (28, 28, 1)\n",
            "Image dtype: <dtype: 'uint8'>\n",
            "Label num: 4\n",
            "Label str: 4\n"
          ]
        }
      ]
    },
    {
      "cell_type": "code",
      "source": [
        "label"
      ],
      "metadata": {
        "colab": {
          "base_uri": "https://localhost:8080/"
        },
        "id": "DXlosaUpadNW",
        "outputId": "85d2c98a-760c-4d4c-ac21-b96201c16ddb"
      },
      "execution_count": 11,
      "outputs": [
        {
          "output_type": "execute_result",
          "data": {
            "text/plain": [
              "<tf.Tensor: shape=(), dtype=int64, numpy=4>"
            ]
          },
          "metadata": {},
          "execution_count": 11
        }
      ]
    },
    {
      "cell_type": "code",
      "source": [
        "def preprocessing_images(image, label, img_size=28):\n",
        "  \"\"\"\n",
        "  Converts images datatypes from uint8 to float32, reshape them to [img_shape, img_shape, 3] and normalize them [0,1].\n",
        "\n",
        "  Parameters\n",
        "  ----------\n",
        "  Image: numpy array, dtype=uint8\n",
        "  Label: int64\n",
        "  img_size: int64\n",
        "\n",
        "  Returns\n",
        "  -------\n",
        "  Tuple (image, label)\n",
        "  \"\"\"\n",
        "  image = tf.image.resize(image, [img_size, img_size])\n",
        "  image = image / 255\n",
        "  return tf.cast(image, tf.float32), label"
      ],
      "metadata": {
        "id": "UsaoYOj_kA1K"
      },
      "execution_count": 12,
      "outputs": []
    },
    {
      "cell_type": "code",
      "source": [
        "train_data = train_data.map(map_func=preprocessing_images, num_parallel_calls=tf.data.AUTOTUNE)\n",
        "test_data = test_data.map(preprocessing_images, num_parallel_calls=tf.data.AUTOTUNE)"
      ],
      "metadata": {
        "id": "hiroN54pky27"
      },
      "execution_count": 13,
      "outputs": []
    },
    {
      "cell_type": "code",
      "source": [
        "train_data = train_data.shuffle(buffer_size=1000).batch(32).prefetch(tf.data.AUTOTUNE)\n",
        "test_data = test_data.batch(32).prefetch(tf.data.AUTOTUNE)"
      ],
      "metadata": {
        "id": "884AugCblp0j"
      },
      "execution_count": 14,
      "outputs": []
    },
    {
      "cell_type": "code",
      "source": [
        "train_data"
      ],
      "metadata": {
        "id": "AV4s3bLVly4B",
        "colab": {
          "base_uri": "https://localhost:8080/"
        },
        "outputId": "c9650922-5897-44b7-b3bf-49baa9348bdc"
      },
      "execution_count": 15,
      "outputs": [
        {
          "output_type": "execute_result",
          "data": {
            "text/plain": [
              "<PrefetchDataset element_spec=(TensorSpec(shape=(None, 28, 28, 1), dtype=tf.float32, name=None), TensorSpec(shape=(None,), dtype=tf.int64, name=None))>"
            ]
          },
          "metadata": {},
          "execution_count": 15
        }
      ]
    },
    {
      "cell_type": "markdown",
      "source": [
        "## Create Model: Conv 2D"
      ],
      "metadata": {
        "id": "6o3p5Ob1mA0m"
      }
    },
    {
      "cell_type": "markdown",
      "source": [
        "### Model Conv2D with kernel_size=3"
      ],
      "metadata": {
        "id": "ZYZ8zH_rmkPH"
      }
    },
    {
      "cell_type": "code",
      "source": [
        "# Create the model\n",
        "from tensorflow.keras import layers\n",
        "\n",
        "inputs = layers.Input(shape=(28, 28, 1), dtype=\"float32\")\n",
        "x = layers.Conv2D(filters=16, kernel_size=3, activation=\"relu\")(inputs)\n",
        "x = layers.Conv2D(filters=16, kernel_size=3, activation=\"relu\")(x)\n",
        "x = layers.Conv2D(filters=16, kernel_size=3, activation=\"relu\")(x)\n",
        "x = layers.Conv2D(filters=16, kernel_size=3, activation=\"relu\")(x)\n",
        "x = layers.Conv2D(filters=16, kernel_size=3, activation=\"relu\")(x)\n",
        "x = layers.Conv2D(filters=16, kernel_size=3, activation=\"relu\")(x)\n",
        "x = layers.Conv2D(filters=16, kernel_size=3, activation=\"relu\")(x)\n",
        "x = layers.Conv2D(filters=16, kernel_size=3, activation=\"relu\")(x)\n",
        "x = layers.Conv2D(filters=16, kernel_size=3, activation=\"relu\")(x)\n",
        "x = layers.Conv2D(filters=16, kernel_size=3, activation=\"relu\")(x)\n",
        "x = layers.GlobalAvgPool2D()(x)\n",
        "x = layers.Dense(64, activation=\"relu\")(x)\n",
        "output = layers.Dense(len(class_names), activation=\"softmax\")(x)\n",
        "\n",
        "model_1 = tf.keras.Model(inputs, output, name=\"CNN_kernel_3\")"
      ],
      "metadata": {
        "id": "F2-rR2bsmUbu"
      },
      "execution_count": 16,
      "outputs": []
    },
    {
      "cell_type": "code",
      "source": [
        "# Compile\n",
        "model_1.compile(loss=\"sparse_categorical_crossentropy\",\n",
        "                optimizer=tf.keras.optimizers.Adam(learning_rate=0.001),\n",
        "                metrics=[\"accuracy\"])"
      ],
      "metadata": {
        "id": "_9eAztJLmcYG"
      },
      "execution_count": 17,
      "outputs": []
    },
    {
      "cell_type": "code",
      "source": [
        "model_1.summary()"
      ],
      "metadata": {
        "colab": {
          "base_uri": "https://localhost:8080/"
        },
        "id": "3lp5eqJymrRP",
        "outputId": "fdc420d8-cd8f-4f11-b5c0-23e8e513ec44"
      },
      "execution_count": 18,
      "outputs": [
        {
          "output_type": "stream",
          "name": "stdout",
          "text": [
            "Model: \"CNN_kernel_3\"\n",
            "_________________________________________________________________\n",
            " Layer (type)                Output Shape              Param #   \n",
            "=================================================================\n",
            " input_1 (InputLayer)        [(None, 28, 28, 1)]       0         \n",
            "                                                                 \n",
            " conv2d (Conv2D)             (None, 26, 26, 16)        160       \n",
            "                                                                 \n",
            " conv2d_1 (Conv2D)           (None, 24, 24, 16)        2320      \n",
            "                                                                 \n",
            " conv2d_2 (Conv2D)           (None, 22, 22, 16)        2320      \n",
            "                                                                 \n",
            " conv2d_3 (Conv2D)           (None, 20, 20, 16)        2320      \n",
            "                                                                 \n",
            " conv2d_4 (Conv2D)           (None, 18, 18, 16)        2320      \n",
            "                                                                 \n",
            " conv2d_5 (Conv2D)           (None, 16, 16, 16)        2320      \n",
            "                                                                 \n",
            " conv2d_6 (Conv2D)           (None, 14, 14, 16)        2320      \n",
            "                                                                 \n",
            " conv2d_7 (Conv2D)           (None, 12, 12, 16)        2320      \n",
            "                                                                 \n",
            " conv2d_8 (Conv2D)           (None, 10, 10, 16)        2320      \n",
            "                                                                 \n",
            " conv2d_9 (Conv2D)           (None, 8, 8, 16)          2320      \n",
            "                                                                 \n",
            " global_average_pooling2d (G  (None, 16)               0         \n",
            " lobalAveragePooling2D)                                          \n",
            "                                                                 \n",
            " dense (Dense)               (None, 64)                1088      \n",
            "                                                                 \n",
            " dense_1 (Dense)             (None, 10)                650       \n",
            "                                                                 \n",
            "=================================================================\n",
            "Total params: 22,778\n",
            "Trainable params: 22,778\n",
            "Non-trainable params: 0\n",
            "_________________________________________________________________\n"
          ]
        }
      ]
    },
    {
      "cell_type": "code",
      "source": [
        "# Fit the model\n",
        "history_model_1 = model_1.fit(train_data,\n",
        "            epochs=15,\n",
        "            validation_data=test_data,\n",
        "            verbose=1,\n",
        "            callbacks=[tf.keras.callbacks.ReduceLROnPlateau(monitor=\"val_loss\",\n",
        "                                                            verbose=1,\n",
        "                                                            patience=2),\n",
        "                       tf.keras.callbacks.ModelCheckpoint(\"checkpoint\",\n",
        "                                                          monitor=\"val_accuracy\",\n",
        "                                                          save_best_only=True)])"
      ],
      "metadata": {
        "colab": {
          "base_uri": "https://localhost:8080/"
        },
        "id": "zgXdZuKYoitt",
        "outputId": "9268794a-9835-4e71-8750-c6b59d687f67"
      },
      "execution_count": 19,
      "outputs": [
        {
          "output_type": "stream",
          "name": "stdout",
          "text": [
            "Epoch 1/15\n",
            "1875/1875 [==============================] - 30s 10ms/step - loss: 0.4188 - accuracy: 0.8618 - val_loss: 0.1414 - val_accuracy: 0.9583 - lr: 0.0010\n",
            "Epoch 2/15\n",
            "1875/1875 [==============================] - 15s 8ms/step - loss: 0.1202 - accuracy: 0.9631 - val_loss: 0.0692 - val_accuracy: 0.9776 - lr: 0.0010\n",
            "Epoch 3/15\n",
            "1875/1875 [==============================] - 16s 8ms/step - loss: 0.0898 - accuracy: 0.9728 - val_loss: 0.0690 - val_accuracy: 0.9780 - lr: 0.0010\n",
            "Epoch 4/15\n",
            "1875/1875 [==============================] - 15s 8ms/step - loss: 0.0754 - accuracy: 0.9774 - val_loss: 0.0564 - val_accuracy: 0.9823 - lr: 0.0010\n",
            "Epoch 5/15\n",
            "1875/1875 [==============================] - 20s 11ms/step - loss: 0.0650 - accuracy: 0.9801 - val_loss: 0.0543 - val_accuracy: 0.9831 - lr: 0.0010\n",
            "Epoch 6/15\n",
            "1875/1875 [==============================] - 21s 11ms/step - loss: 0.0588 - accuracy: 0.9823 - val_loss: 0.0622 - val_accuracy: 0.9798 - lr: 0.0010\n",
            "Epoch 7/15\n",
            "1875/1875 [==============================] - 17s 9ms/step - loss: 0.0525 - accuracy: 0.9848 - val_loss: 0.0477 - val_accuracy: 0.9859 - lr: 0.0010\n",
            "Epoch 8/15\n",
            "1875/1875 [==============================] - 17s 9ms/step - loss: 0.0476 - accuracy: 0.9856 - val_loss: 0.0387 - val_accuracy: 0.9878 - lr: 0.0010\n",
            "Epoch 9/15\n",
            "1875/1875 [==============================] - 19s 10ms/step - loss: 0.0442 - accuracy: 0.9869 - val_loss: 0.0377 - val_accuracy: 0.9875 - lr: 0.0010\n",
            "Epoch 10/15\n",
            "1875/1875 [==============================] - 22s 12ms/step - loss: 0.0409 - accuracy: 0.9875 - val_loss: 0.0417 - val_accuracy: 0.9882 - lr: 0.0010\n",
            "Epoch 11/15\n",
            "1873/1875 [============================>.] - ETA: 0s - loss: 0.0377 - accuracy: 0.9885\n",
            "Epoch 11: ReduceLROnPlateau reducing learning rate to 0.00010000000474974513.\n",
            "1875/1875 [==============================] - 19s 10ms/step - loss: 0.0377 - accuracy: 0.9885 - val_loss: 0.0385 - val_accuracy: 0.9884 - lr: 0.0010\n",
            "Epoch 12/15\n",
            "1875/1875 [==============================] - 21s 11ms/step - loss: 0.0187 - accuracy: 0.9942 - val_loss: 0.0265 - val_accuracy: 0.9916 - lr: 1.0000e-04\n",
            "Epoch 13/15\n",
            "1875/1875 [==============================] - 21s 11ms/step - loss: 0.0150 - accuracy: 0.9955 - val_loss: 0.0281 - val_accuracy: 0.9917 - lr: 1.0000e-04\n",
            "Epoch 14/15\n",
            "1873/1875 [============================>.] - ETA: 0s - loss: 0.0135 - accuracy: 0.9962\n",
            "Epoch 14: ReduceLROnPlateau reducing learning rate to 1.0000000474974514e-05.\n",
            "1875/1875 [==============================] - 20s 11ms/step - loss: 0.0135 - accuracy: 0.9962 - val_loss: 0.0265 - val_accuracy: 0.9923 - lr: 1.0000e-04\n",
            "Epoch 15/15\n",
            "1875/1875 [==============================] - 19s 10ms/step - loss: 0.0110 - accuracy: 0.9970 - val_loss: 0.0258 - val_accuracy: 0.9918 - lr: 1.0000e-05\n"
          ]
        }
      ]
    },
    {
      "cell_type": "code",
      "source": [
        "def plot_loss_curves(history):\n",
        "  \"\"\"\n",
        "  Returns separate loss curves for training and validation metrics.\n",
        "\n",
        "  Parameter\n",
        "  ---------\n",
        "  history: tf.keras.callbacks.History\n",
        "\n",
        "  Returns\n",
        "  -------\n",
        "  Plot for loss and accuracy.\n",
        "  \"\"\"\n",
        "  loss = history.history[\"loss\"]\n",
        "  val_loss = history.history[\"val_loss\"]\n",
        "\n",
        "  accuracy = history.history[\"accuracy\"]\n",
        "  val_accuracy = history.history[\"val_accuracy\"]\n",
        "\n",
        "  epochs = range(len(history.history[\"loss\"]))\n",
        "\n",
        "  # Plot loss\n",
        "  plt.figure(figsize=(7,4))\n",
        "  plt.plot(epochs, loss, label=\"training_loss\")\n",
        "  plt.plot(epochs, val_loss, label=\"val_loss\")\n",
        "  plt.title(\"Loss\")\n",
        "  plt.xlabel(\"Epochs\")\n",
        "  plt.legend()\n",
        "\n",
        "  # Plot accuracy\n",
        "  plt.figure(figsize=(7,4))\n",
        "  plt.plot(epochs, accuracy, label=\"training_accuracy\")\n",
        "  plt.plot(epochs, val_accuracy, label=\"val_accuracy\")\n",
        "  plt.title(\"Accuracy\")\n",
        "  plt.xlabel(\"Epochs\")\n",
        "  plt.legend();"
      ],
      "metadata": {
        "id": "jz6hD_riI5Fv"
      },
      "execution_count": 41,
      "outputs": []
    },
    {
      "cell_type": "code",
      "source": [
        "plot_loss_curves(history_model_1)"
      ],
      "metadata": {
        "id": "ATlct5RrI7rB"
      },
      "execution_count": null,
      "outputs": []
    },
    {
      "cell_type": "markdown",
      "source": [
        "### Conv2D with multi kernel_size"
      ],
      "metadata": {
        "id": "2WjBCr96o1Tr"
      }
    },
    {
      "cell_type": "code",
      "source": [
        "# Create model 2\n",
        "\n",
        "inputs = layers.Input(shape=(28, 28, 1), dtype=\"float32\")\n",
        "x = layers.Conv2D(filters=16, kernel_size=7, activation=\"relu\")(inputs)\n",
        "x = layers.Conv2D(filters=16, kernel_size=7, activation=\"relu\", padding=\"same\")(x)\n",
        "x = layers.Conv2D(filters=16, kernel_size=5, activation=\"relu\", padding=\"same\")(x)\n",
        "x = layers.Conv2D(filters=16, kernel_size=5, activation=\"relu\")(x)\n",
        "x = layers.Conv2D(filters=16, kernel_size=3, activation=\"relu\")(x)\n",
        "x = layers.Conv2D(filters=16, kernel_size=3, activation=\"relu\")(x)\n",
        "x = layers.Conv2D(filters=16, kernel_size=3, activation=\"relu\")(x)\n",
        "x = layers.Conv2D(filters=16, kernel_size=3, activation=\"relu\")(x)\n",
        "x = layers.Conv2D(filters=16, kernel_size=3, activation=\"relu\")(x)\n",
        "x = layers.Conv2D(filters=16, kernel_size=3, activation=\"relu\")(x)\n",
        "x = layers.Conv2D(filters=16, kernel_size=3, activation=\"relu\")(x)\n",
        "x = layers.Conv2D(filters=16, kernel_size=3, activation=\"relu\")(x)\n",
        "x = layers.GlobalAveragePooling2D()(x)\n",
        "x = layers.Dense(64, activation=\"relu\")(x)\n",
        "output = layers.Dense(len(class_names), activation=\"softmax\")(x)\n",
        "\n",
        "model_2 = tf.keras.Model(inputs, output, name=\"CNN_kernel_muti\")"
      ],
      "metadata": {
        "id": "hv6JECGx9Ave"
      },
      "execution_count": 20,
      "outputs": []
    },
    {
      "cell_type": "code",
      "source": [
        "# Compile\n",
        "model_2.compile(loss=\"sparse_categorical_crossentropy\",\n",
        "                optimizer=tf.keras.optimizers.Adam(learning_rate=0.001),\n",
        "                metrics=[\"accuracy\"])"
      ],
      "metadata": {
        "id": "IXFdhSSGkoyN"
      },
      "execution_count": 21,
      "outputs": []
    },
    {
      "cell_type": "code",
      "source": [
        "model_2.summary()"
      ],
      "metadata": {
        "colab": {
          "base_uri": "https://localhost:8080/"
        },
        "id": "9a1Shj6bi8t8",
        "outputId": "7a565d56-432c-4553-821f-b9a9d2eeef3c"
      },
      "execution_count": 22,
      "outputs": [
        {
          "output_type": "stream",
          "name": "stdout",
          "text": [
            "Model: \"CNN_kernel_muti\"\n",
            "_________________________________________________________________\n",
            " Layer (type)                Output Shape              Param #   \n",
            "=================================================================\n",
            " input_2 (InputLayer)        [(None, 28, 28, 1)]       0         \n",
            "                                                                 \n",
            " conv2d_10 (Conv2D)          (None, 22, 22, 16)        800       \n",
            "                                                                 \n",
            " conv2d_11 (Conv2D)          (None, 22, 22, 16)        12560     \n",
            "                                                                 \n",
            " conv2d_12 (Conv2D)          (None, 22, 22, 16)        6416      \n",
            "                                                                 \n",
            " conv2d_13 (Conv2D)          (None, 18, 18, 16)        6416      \n",
            "                                                                 \n",
            " conv2d_14 (Conv2D)          (None, 16, 16, 16)        2320      \n",
            "                                                                 \n",
            " conv2d_15 (Conv2D)          (None, 14, 14, 16)        2320      \n",
            "                                                                 \n",
            " conv2d_16 (Conv2D)          (None, 12, 12, 16)        2320      \n",
            "                                                                 \n",
            " conv2d_17 (Conv2D)          (None, 10, 10, 16)        2320      \n",
            "                                                                 \n",
            " conv2d_18 (Conv2D)          (None, 8, 8, 16)          2320      \n",
            "                                                                 \n",
            " conv2d_19 (Conv2D)          (None, 6, 6, 16)          2320      \n",
            "                                                                 \n",
            " conv2d_20 (Conv2D)          (None, 4, 4, 16)          2320      \n",
            "                                                                 \n",
            " conv2d_21 (Conv2D)          (None, 2, 2, 16)          2320      \n",
            "                                                                 \n",
            " global_average_pooling2d_1   (None, 16)               0         \n",
            " (GlobalAveragePooling2D)                                        \n",
            "                                                                 \n",
            " dense_2 (Dense)             (None, 64)                1088      \n",
            "                                                                 \n",
            " dense_3 (Dense)             (None, 10)                650       \n",
            "                                                                 \n",
            "=================================================================\n",
            "Total params: 46,490\n",
            "Trainable params: 46,490\n",
            "Non-trainable params: 0\n",
            "_________________________________________________________________\n"
          ]
        }
      ]
    },
    {
      "cell_type": "code",
      "source": [
        "# Fit the model\n",
        "history_model_2 = model_2.fit(train_data,\n",
        "                              epochs=15,\n",
        "                              validation_data=test_data,\n",
        "                              verbose=1,\n",
        "                              callbacks=[tf.keras.callbacks.ReduceLROnPlateau(monitor=\"val_loss\", verbose=1, patience=2),\n",
        "                                         tf.keras.callbacks.ModelCheckpoint(\"checkpooint\",\n",
        "                                                                            monitor=\"val_accuracy\",\n",
        "                                                                            save_best_only=True)])"
      ],
      "metadata": {
        "colab": {
          "base_uri": "https://localhost:8080/"
        },
        "id": "JzjZrY-xi-n6",
        "outputId": "36a26689-3ecb-416d-a3b0-0a63ceae455c"
      },
      "execution_count": 23,
      "outputs": [
        {
          "output_type": "stream",
          "name": "stdout",
          "text": [
            "Epoch 1/15\n",
            "1875/1875 [==============================] - 22s 11ms/step - loss: 0.3927 - accuracy: 0.8747 - val_loss: 0.1588 - val_accuracy: 0.9575 - lr: 0.0010\n",
            "Epoch 2/15\n",
            "1875/1875 [==============================] - 22s 12ms/step - loss: 0.1386 - accuracy: 0.9594 - val_loss: 0.0912 - val_accuracy: 0.9715 - lr: 0.0010\n",
            "Epoch 3/15\n",
            "1875/1875 [==============================] - 18s 9ms/step - loss: 0.1073 - accuracy: 0.9689 - val_loss: 0.0800 - val_accuracy: 0.9775 - lr: 0.0010\n",
            "Epoch 4/15\n",
            "1875/1875 [==============================] - 16s 8ms/step - loss: 0.0905 - accuracy: 0.9743 - val_loss: 0.0580 - val_accuracy: 0.9829 - lr: 0.0010\n",
            "Epoch 5/15\n",
            "1875/1875 [==============================] - 16s 8ms/step - loss: 0.0767 - accuracy: 0.9783 - val_loss: 0.0734 - val_accuracy: 0.9793 - lr: 0.0010\n",
            "Epoch 6/15\n",
            "1874/1875 [============================>.] - ETA: 0s - loss: 0.0684 - accuracy: 0.9802\n",
            "Epoch 6: ReduceLROnPlateau reducing learning rate to 0.00010000000474974513.\n",
            "1875/1875 [==============================] - 16s 8ms/step - loss: 0.0684 - accuracy: 0.9802 - val_loss: 0.0736 - val_accuracy: 0.9800 - lr: 0.0010\n",
            "Epoch 7/15\n",
            "1875/1875 [==============================] - 16s 9ms/step - loss: 0.0344 - accuracy: 0.9898 - val_loss: 0.0376 - val_accuracy: 0.9894 - lr: 1.0000e-04\n",
            "Epoch 8/15\n",
            "1875/1875 [==============================] - 16s 9ms/step - loss: 0.0269 - accuracy: 0.9920 - val_loss: 0.0356 - val_accuracy: 0.9900 - lr: 1.0000e-04\n",
            "Epoch 9/15\n",
            "1875/1875 [==============================] - 24s 13ms/step - loss: 0.0234 - accuracy: 0.9931 - val_loss: 0.0360 - val_accuracy: 0.9896 - lr: 1.0000e-04\n",
            "Epoch 10/15\n",
            "1873/1875 [============================>.] - ETA: 0s - loss: 0.0206 - accuracy: 0.9938\n",
            "Epoch 10: ReduceLROnPlateau reducing learning rate to 1.0000000474974514e-05.\n",
            "1875/1875 [==============================] - 18s 10ms/step - loss: 0.0206 - accuracy: 0.9938 - val_loss: 0.0361 - val_accuracy: 0.9896 - lr: 1.0000e-04\n",
            "Epoch 11/15\n",
            "1875/1875 [==============================] - 20s 10ms/step - loss: 0.0166 - accuracy: 0.9957 - val_loss: 0.0333 - val_accuracy: 0.9904 - lr: 1.0000e-05\n",
            "Epoch 12/15\n",
            "1875/1875 [==============================] - 21s 11ms/step - loss: 0.0156 - accuracy: 0.9960 - val_loss: 0.0331 - val_accuracy: 0.9899 - lr: 1.0000e-05\n",
            "Epoch 13/15\n",
            "1875/1875 [==============================] - 19s 10ms/step - loss: 0.0151 - accuracy: 0.9961 - val_loss: 0.0331 - val_accuracy: 0.9899 - lr: 1.0000e-05\n",
            "Epoch 14/15\n",
            "1871/1875 [============================>.] - ETA: 0s - loss: 0.0148 - accuracy: 0.9962\n",
            "Epoch 14: ReduceLROnPlateau reducing learning rate to 1.0000000656873453e-06.\n",
            "1875/1875 [==============================] - 22s 11ms/step - loss: 0.0147 - accuracy: 0.9962 - val_loss: 0.0332 - val_accuracy: 0.9901 - lr: 1.0000e-05\n",
            "Epoch 15/15\n",
            "1875/1875 [==============================] - 21s 11ms/step - loss: 0.0142 - accuracy: 0.9963 - val_loss: 0.0330 - val_accuracy: 0.9902 - lr: 1.0000e-06\n"
          ]
        }
      ]
    },
    {
      "cell_type": "code",
      "source": [
        "plot_loss_curves(history_model_2)"
      ],
      "metadata": {
        "colab": {
          "base_uri": "https://localhost:8080/",
          "height": 573
        },
        "id": "z5e93-ncGnHI",
        "outputId": "8a61d799-bec2-4ae3-b512-42dc5ad2cedf"
      },
      "execution_count": 40,
      "outputs": [
        {
          "output_type": "display_data",
          "data": {
            "text/plain": [
              "<Figure size 504x288 with 1 Axes>"
            ],
            "image/png": "[encoded data removed]"
          },
          "metadata": {
            "needs_background": "light"
          }
        },
        {
          "output_type": "display_data",
          "data": {
            "text/plain": [
              "<Figure size 504x288 with 1 Axes>"
            ],
            "image/png": "[encoded data removed]"
          },
          "metadata": {
            "needs_background": "light"
          }
        }
      ]
    },
    {
      "cell_type": "markdown",
      "source": [
        "## Model comparison"
      ],
      "metadata": {
        "id": "rcXllwPQJHm7"
      }
    },
    {
      "cell_type": "code",
      "source": [
        "import pandas as pd\n",
        "\n",
        "df_1 = pd.DataFrame(history_model_1.history)\n",
        "df_2 = pd.DataFrame(history_model_2.history)"
      ],
      "metadata": {
        "id": "YoAw9iD8JTpk"
      },
      "execution_count": 44,
      "outputs": []
    },
    {
      "cell_type": "code",
      "source": [
        "df_1['val_accuracy'].max(), df_2[\"val_accuracy\"].max()"
      ],
      "metadata": {
        "colab": {
          "base_uri": "https://localhost:8080/"
        },
        "id": "yLaOYkHJJmnK",
        "outputId": "e138212a-b5cb-4115-bae7-2db19674b959"
      },
      "execution_count": 58,
      "outputs": [
        {
          "output_type": "execute_result",
          "data": {
            "text/plain": [
              "(0.9922999739646912, 0.9904000163078308)"
            ]
          },
          "metadata": {},
          "execution_count": 58
        }
      ]
    },
    {
      "cell_type": "code",
      "source": [
        "df_1[\"val_loss\"].min(), df_2[\"val_loss\"].min()"
      ],
      "metadata": {
        "colab": {
          "base_uri": "https://localhost:8080/"
        },
        "id": "6WVwYZWxKcMX",
        "outputId": "4cd80878-4d72-44a1-d6a2-b2ca278ce6c8"
      },
      "execution_count": 59,
      "outputs": [
        {
          "output_type": "execute_result",
          "data": {
            "text/plain": [
              "(0.02579556219279766, 0.032956670969724655)"
            ]
          },
          "metadata": {},
          "execution_count": 59
        }
      ]
    }
  ]
}